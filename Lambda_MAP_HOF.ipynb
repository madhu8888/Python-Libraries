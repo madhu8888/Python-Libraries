{
  "nbformat": 4,
  "nbformat_minor": 0,
  "metadata": {
    "colab": {
      "provenance": []
    },
    "kernelspec": {
      "name": "python3",
      "display_name": "Python 3"
    },
    "language_info": {
      "name": "python"
    }
  },
  "cells": [
    {
      "cell_type": "markdown",
      "source": [
        "# Lambda Functions\n",
        "1. No return value.\n",
        "2. Whole function is returned.\n",
        "3. Written in only 1 line.\n",
        "4. Not used for code reusability.\n",
        "5. No name\n",
        "\n",
        "# Why\n",
        "1. Along with higher order functions.\n"
      ],
      "metadata": {
        "id": "1lrGvZBwCL2V"
      }
    },
    {
      "cell_type": "code",
      "execution_count": 1,
      "metadata": {
        "id": "j1FyE_rkB-qF",
        "colab": {
          "base_uri": "https://localhost:8080/"
        },
        "outputId": "f93453c5-7764-416e-93f2-f6a201a14510"
      },
      "outputs": [
        {
          "output_type": "execute_result",
          "data": {
            "text/plain": [
              "81"
            ]
          },
          "metadata": {},
          "execution_count": 1
        }
      ],
      "source": [
        "#lambda input:expression\n",
        "x = lambda x:x**2\n",
        "x(9)"
      ]
    },
    {
      "cell_type": "code",
      "source": [
        "z = lambda x,y:x+y\n",
        "z(4,5)"
      ],
      "metadata": {
        "colab": {
          "base_uri": "https://localhost:8080/"
        },
        "id": "ikjbJxHTG2mn",
        "outputId": "708e105e-8b8b-423e-9636-3ab851d6daea"
      },
      "execution_count": 2,
      "outputs": [
        {
          "output_type": "execute_result",
          "data": {
            "text/plain": [
              "9"
            ]
          },
          "metadata": {},
          "execution_count": 2
        }
      ]
    },
    {
      "cell_type": "code",
      "source": [
        "z = lambda x:x[0]=='a'\n",
        "z('banana')"
      ],
      "metadata": {
        "colab": {
          "base_uri": "https://localhost:8080/"
        },
        "id": "NGE1DGgtINfK",
        "outputId": "42ac1280-616a-407d-dc58-e4da3d1eb196"
      },
      "execution_count": 5,
      "outputs": [
        {
          "output_type": "execute_result",
          "data": {
            "text/plain": [
              "False"
            ]
          },
          "metadata": {},
          "execution_count": 5
        }
      ]
    },
    {
      "cell_type": "code",
      "source": [
        "b = lambda x:\"Even\" if x%2==0 else \"False\"\n",
        "b(3)\n",
        "b(2)"
      ],
      "metadata": {
        "colab": {
          "base_uri": "https://localhost:8080/",
          "height": 35
        },
        "id": "ExR04TDPH9gz",
        "outputId": "c552ddb5-6d28-427d-fcd8-f415822055e2"
      },
      "execution_count": 3,
      "outputs": [
        {
          "output_type": "execute_result",
          "data": {
            "text/plain": [
              "'Even'"
            ],
            "application/vnd.google.colaboratory.intrinsic+json": {
              "type": "string"
            }
          },
          "metadata": {},
          "execution_count": 3
        }
      ]
    },
    {
      "cell_type": "markdown",
      "source": [
        "# Higher Order Functions\n",
        "1. Higher order functions are those function which need another function as input to work. Or a function returning another function is also called as HOF.\n",
        "2. HOF can vary behaviour based on the function passed as input to it."
      ],
      "metadata": {
        "id": "XPOl1zQAIc-y"
      }
    },
    {
      "cell_type": "code",
      "source": [
        "x = lambda x:x%2==0\n",
        "y = lambda x:x%2!=0\n",
        "z = lambda z:z%3==0"
      ],
      "metadata": {
        "id": "2OUhb4OEPKEo"
      },
      "execution_count": 6,
      "outputs": []
    },
    {
      "cell_type": "code",
      "source": [
        "lst = [11,14,21,23,56,78,45,29,28]"
      ],
      "metadata": {
        "id": "U-Ut33ipP-5u"
      },
      "execution_count": 10,
      "outputs": []
    },
    {
      "cell_type": "code",
      "source": [
        "def return_sum(func, L):\n",
        "  result = 0\n",
        "\n",
        "  for i in L:\n",
        "    if func(i):\n",
        "      result = result+i\n",
        "\n",
        "  return result"
      ],
      "metadata": {
        "id": "wW9bi3lUIgOl"
      },
      "execution_count": 8,
      "outputs": []
    },
    {
      "cell_type": "code",
      "source": [
        "print(return_sum(x,lst))\n",
        "print(return_sum(y,lst))\n",
        "print(return_sum(z,lst))"
      ],
      "metadata": {
        "colab": {
          "base_uri": "https://localhost:8080/"
        },
        "id": "cqQquIPOQAhL",
        "outputId": "4d32f18b-deeb-41b5-b864-47aac7b964ac"
      },
      "execution_count": 11,
      "outputs": [
        {
          "output_type": "stream",
          "name": "stdout",
          "text": [
            "176\n",
            "129\n",
            "144\n"
          ]
        }
      ]
    },
    {
      "cell_type": "markdown",
      "source": [
        "# Map, Filter and Reduce (HOF)\n",
        "1. MAP function: Apply a function on each item of an iterable element. map(func,iter)"
      ],
      "metadata": {
        "id": "W0oDzN6dQquE"
      }
    },
    {
      "cell_type": "code",
      "source": [
        "map( lambda x:x*2, lst)"
      ],
      "metadata": {
        "colab": {
          "base_uri": "https://localhost:8080/"
        },
        "id": "Dba_hDzWQ0BZ",
        "outputId": "b6157f1e-8714-4d6d-c4a9-15316e3c1bbc"
      },
      "execution_count": 12,
      "outputs": [
        {
          "output_type": "execute_result",
          "data": {
            "text/plain": [
              "<map at 0x7f6c342db670>"
            ]
          },
          "metadata": {},
          "execution_count": 12
        }
      ]
    },
    {
      "cell_type": "code",
      "source": [
        "list(map( lambda x:x*2, lst))"
      ],
      "metadata": {
        "colab": {
          "base_uri": "https://localhost:8080/"
        },
        "id": "NckWuvs0RwYX",
        "outputId": "ba7b2a58-9dab-4f0f-9efa-603b6687c129"
      },
      "execution_count": 16,
      "outputs": [
        {
          "output_type": "execute_result",
          "data": {
            "text/plain": [
              "[22, 28, 42, 46, 112, 156, 90, 58, 56]"
            ]
          },
          "metadata": {},
          "execution_count": 16
        }
      ]
    },
    {
      "cell_type": "code",
      "source": [
        "list(map( lambda x:x%2==0, lst))"
      ],
      "metadata": {
        "colab": {
          "base_uri": "https://localhost:8080/"
        },
        "id": "EUjQKRfOSHgT",
        "outputId": "fd445e05-faae-4a26-c8d6-18d7d5e562d7"
      },
      "execution_count": 17,
      "outputs": [
        {
          "output_type": "execute_result",
          "data": {
            "text/plain": [
              "[False, True, False, False, True, True, False, False, True]"
            ]
          },
          "metadata": {},
          "execution_count": 17
        }
      ]
    },
    {
      "cell_type": "code",
      "source": [
        "student = [{\"name\":'a', \"state\":\"bc\"},{\"name\":'b',\"state\":\"cd\"},{\"name\":'c',\"state\":\"de\"}]"
      ],
      "metadata": {
        "id": "Z1Csfl_zTvMj"
      },
      "execution_count": 18,
      "outputs": []
    },
    {
      "cell_type": "code",
      "source": [
        "list(map(lambda x:x['name'], student))"
      ],
      "metadata": {
        "colab": {
          "base_uri": "https://localhost:8080/"
        },
        "id": "WDAgizWyUCMv",
        "outputId": "bf808179-e94b-4d55-e570-3afbd0f7d4f6"
      },
      "execution_count": 19,
      "outputs": [
        {
          "output_type": "execute_result",
          "data": {
            "text/plain": [
              "['a', 'b', 'c']"
            ]
          },
          "metadata": {},
          "execution_count": 19
        }
      ]
    },
    {
      "cell_type": "markdown",
      "source": [
        "2. Filter Function: filter the iterable based on some condition."
      ],
      "metadata": {
        "id": "gV9RifmbTuVM"
      }
    },
    {
      "cell_type": "code",
      "source": [
        "list(filter(lambda x:x>50, lst))"
      ],
      "metadata": {
        "colab": {
          "base_uri": "https://localhost:8080/"
        },
        "id": "pXNhAyAjUOYz",
        "outputId": "bfaa784a-4369-4b12-d5a3-bbd0e7ff2130"
      },
      "execution_count": 21,
      "outputs": [
        {
          "output_type": "execute_result",
          "data": {
            "text/plain": [
              "[56, 78]"
            ]
          },
          "metadata": {},
          "execution_count": 21
        }
      ]
    },
    {
      "cell_type": "code",
      "source": [
        "fruits = ['Apple', 'Orange', 'Guava', 'Mango']"
      ],
      "metadata": {
        "id": "BoCr-kgVrG6R"
      },
      "execution_count": 22,
      "outputs": []
    },
    {
      "cell_type": "code",
      "source": [
        "list(filter(lambda x:'e' in x, fruits))"
      ],
      "metadata": {
        "colab": {
          "base_uri": "https://localhost:8080/"
        },
        "id": "go-hhJN_rVT-",
        "outputId": "4a8cc93e-4ef7-4b0e-f1a6-1de165e7a0b0"
      },
      "execution_count": 23,
      "outputs": [
        {
          "output_type": "execute_result",
          "data": {
            "text/plain": [
              "['Apple', 'Orange']"
            ]
          },
          "metadata": {},
          "execution_count": 23
        }
      ]
    },
    {
      "cell_type": "markdown",
      "source": [
        "3. Reduce function: Reduce the list"
      ],
      "metadata": {
        "id": "j5tpyrt3R0Rn"
      }
    },
    {
      "cell_type": "code",
      "source": [
        "import functools"
      ],
      "metadata": {
        "id": "cTstattwruAF"
      },
      "execution_count": 24,
      "outputs": []
    },
    {
      "cell_type": "code",
      "source": [
        "L = [1,2,3,4,5,6,7]"
      ],
      "metadata": {
        "id": "YCC0BO4esS_u"
      },
      "execution_count": 31,
      "outputs": []
    },
    {
      "cell_type": "code",
      "source": [
        "functools.reduce(lambda x,y:x+y, L)"
      ],
      "metadata": {
        "colab": {
          "base_uri": "https://localhost:8080/"
        },
        "id": "wHkzPf4Qrx9R",
        "outputId": "06a83914-00b6-497c-8f4b-2213d3a2c8dd"
      },
      "execution_count": 27,
      "outputs": [
        {
          "output_type": "execute_result",
          "data": {
            "text/plain": [
              "28"
            ]
          },
          "metadata": {},
          "execution_count": 27
        }
      ]
    },
    {
      "cell_type": "code",
      "source": [
        "L_1 = [11,98,12,44,57,89,23,102]"
      ],
      "metadata": {
        "id": "OfoM0bxoskyt"
      },
      "execution_count": 28,
      "outputs": []
    },
    {
      "cell_type": "code",
      "source": [
        "functools.reduce(lambda x,y: x if x>y else y, L_1)"
      ],
      "metadata": {
        "colab": {
          "base_uri": "https://localhost:8080/"
        },
        "id": "B59SizAeskUC",
        "outputId": "0498f646-efe2-4751-e707-5e007d3602f4"
      },
      "execution_count": 30,
      "outputs": [
        {
          "output_type": "execute_result",
          "data": {
            "text/plain": [
              "102"
            ]
          },
          "metadata": {},
          "execution_count": 30
        }
      ]
    },
    {
      "cell_type": "markdown",
      "source": [
        "# List Comprehension\n",
        "Using this you can create a list from another list."
      ],
      "metadata": {
        "id": "oYFeMtjEtjGH"
      }
    },
    {
      "cell_type": "code",
      "source": [
        "L_double = [item*2 for item in L]"
      ],
      "metadata": {
        "id": "BqdfnZoGtla9"
      },
      "execution_count": 46,
      "outputs": []
    },
    {
      "cell_type": "code",
      "source": [
        "L_double"
      ],
      "metadata": {
        "colab": {
          "base_uri": "https://localhost:8080/"
        },
        "id": "Q6Mcgp6puACK",
        "outputId": "8c77ca74-bc50-47a6-8706-9fe1448ec7c2"
      },
      "execution_count": 47,
      "outputs": [
        {
          "output_type": "execute_result",
          "data": {
            "text/plain": [
              "[2, 4, 6, 8, 10, 12, 14]"
            ]
          },
          "metadata": {},
          "execution_count": 47
        }
      ]
    },
    {
      "cell_type": "code",
      "source": [
        "L_double = [item*2 for item in range(10)]\n",
        "L_double"
      ],
      "metadata": {
        "colab": {
          "base_uri": "https://localhost:8080/"
        },
        "id": "ZvsgXUtBuHcX",
        "outputId": "aa5126b1-d2eb-45ff-9e69-fab4554f0e87"
      },
      "execution_count": 35,
      "outputs": [
        {
          "output_type": "execute_result",
          "data": {
            "text/plain": [
              "[0, 2, 4, 6, 8, 10, 12, 14, 16, 18]"
            ]
          },
          "metadata": {},
          "execution_count": 35
        }
      ]
    },
    {
      "cell_type": "code",
      "source": [
        "L_double = [item*2 for item in range(10) if item%2==0]\n",
        "L_double"
      ],
      "metadata": {
        "colab": {
          "base_uri": "https://localhost:8080/"
        },
        "id": "aI3h8hjhuNl2",
        "outputId": "e8697598-f878-4cc9-eda5-a18a6fa7c476"
      },
      "execution_count": 36,
      "outputs": [
        {
          "output_type": "execute_result",
          "data": {
            "text/plain": [
              "[0, 4, 8, 12, 16]"
            ]
          },
          "metadata": {},
          "execution_count": 36
        }
      ]
    },
    {
      "cell_type": "code",
      "source": [
        "L_double = [item for item in fruits if 'e' in item] \n",
        "L_double"
      ],
      "metadata": {
        "colab": {
          "base_uri": "https://localhost:8080/"
        },
        "id": "y3Hxf5LtuZG8",
        "outputId": "5796ae5b-3b38-4222-dcaa-d9b35be9e9a1"
      },
      "execution_count": 37,
      "outputs": [
        {
          "output_type": "execute_result",
          "data": {
            "text/plain": [
              "['Apple', 'Orange']"
            ]
          },
          "metadata": {},
          "execution_count": 37
        }
      ]
    },
    {
      "cell_type": "markdown",
      "source": [
        "# Dictionary Comprehension"
      ],
      "metadata": {
        "id": "brFxh6myuvfa"
      }
    },
    {
      "cell_type": "code",
      "source": [
        "D = {\"Name\":\"Madhu\", \"Gender\":\"Female\", \"Good\":\"1\"}"
      ],
      "metadata": {
        "id": "YrOppXGVu7t2"
      },
      "execution_count": 42,
      "outputs": []
    },
    {
      "cell_type": "code",
      "source": [
        "D.items()"
      ],
      "metadata": {
        "colab": {
          "base_uri": "https://localhost:8080/"
        },
        "id": "qVHg565GvUJH",
        "outputId": "19bde817-b7a6-4318-abdc-f0434ac329ae"
      },
      "execution_count": 43,
      "outputs": [
        {
          "output_type": "execute_result",
          "data": {
            "text/plain": [
              "dict_items([('Name', 'Madhu'), ('Gender', 'Female'), ('Good', '1')])"
            ]
          },
          "metadata": {},
          "execution_count": 43
        }
      ]
    },
    {
      "cell_type": "code",
      "source": [
        "D1 = { key:value for key,value in D.items() if len(value)>3 }\n",
        "D1"
      ],
      "metadata": {
        "colab": {
          "base_uri": "https://localhost:8080/"
        },
        "id": "OUybsbWEvWcZ",
        "outputId": "7c1def3f-c12a-4914-80cf-5255aef3ae74"
      },
      "execution_count": 45,
      "outputs": [
        {
          "output_type": "execute_result",
          "data": {
            "text/plain": [
              "{'Name': 'Madhu', 'Gender': 'Female'}"
            ]
          },
          "metadata": {},
          "execution_count": 45
        }
      ]
    },
    {
      "cell_type": "code",
      "source": [
        "D2 = { item:item**2 for item in L_double  }\n",
        "D2"
      ],
      "metadata": {
        "colab": {
          "base_uri": "https://localhost:8080/"
        },
        "id": "3MtPlWC4wM6N",
        "outputId": "97d3ed77-eb7a-4b8b-fc6a-9da38bab6758"
      },
      "execution_count": 49,
      "outputs": [
        {
          "output_type": "execute_result",
          "data": {
            "text/plain": [
              "{2: 4, 4: 16, 6: 36, 8: 64, 10: 100, 12: 144, 14: 196}"
            ]
          },
          "metadata": {},
          "execution_count": 49
        }
      ]
    }
  ]
}